{
 "cells": [
  {
   "cell_type": "markdown",
   "metadata": {},
   "source": [
    "# Описание кейса\n",
    "\n",
    "Вы работаете продуктовым аналитиком в компании по доставке продуктов на дом. Сервис доступен как в приложении на ios, так и на android. Вы настроили фронтовую аналитику в AppMetrica, и в конце квартала маркетинг-менеджер попросил вас проанализировать поведение пользователей, а также оценить эффективность каналов их привлечения. \n",
    "\n",
    "Вы выгрузили данные из AppMetrica за период с 1 января по 31 марта 2020, только по пользователям, зарегистрированным позднее 1 января 2020."
   ]
  },
  {
   "cell_type": "markdown",
   "metadata": {},
   "source": [
    "## Шаг 1. Подключим нужные библиотеки и считаем данные"
   ]
  },
  {
   "cell_type": "code",
   "execution_count": 1,
   "metadata": {},
   "outputs": [],
   "source": [
    "import pandas as pd"
   ]
  },
  {
   "cell_type": "code",
   "execution_count": 32,
   "metadata": {},
   "outputs": [],
   "source": [
    "df = pd.read_csv('KC_case_data.csv')"
   ]
  },
  {
   "cell_type": "code",
   "execution_count": 3,
   "metadata": {},
   "outputs": [
    {
     "data": {
      "text/html": [
       "<div>\n",
       "<style scoped>\n",
       "    .dataframe tbody tr th:only-of-type {\n",
       "        vertical-align: middle;\n",
       "    }\n",
       "\n",
       "    .dataframe tbody tr th {\n",
       "        vertical-align: top;\n",
       "    }\n",
       "\n",
       "    .dataframe thead th {\n",
       "        text-align: right;\n",
       "    }\n",
       "</style>\n",
       "<table border=\"1\" class=\"dataframe\">\n",
       "  <thead>\n",
       "    <tr style=\"text-align: right;\">\n",
       "      <th></th>\n",
       "      <th>date</th>\n",
       "      <th>event</th>\n",
       "      <th>purchase_sum</th>\n",
       "      <th>os_name</th>\n",
       "      <th>device_id</th>\n",
       "      <th>gender</th>\n",
       "      <th>city</th>\n",
       "      <th>utm_source</th>\n",
       "    </tr>\n",
       "  </thead>\n",
       "  <tbody>\n",
       "    <tr>\n",
       "      <th>0</th>\n",
       "      <td>2020-01-01</td>\n",
       "      <td>app_start</td>\n",
       "      <td>NaN</td>\n",
       "      <td>android</td>\n",
       "      <td>669460</td>\n",
       "      <td>female</td>\n",
       "      <td>Moscow</td>\n",
       "      <td>-</td>\n",
       "    </tr>\n",
       "    <tr>\n",
       "      <th>1</th>\n",
       "      <td>2020-01-01</td>\n",
       "      <td>app_start</td>\n",
       "      <td>NaN</td>\n",
       "      <td>ios</td>\n",
       "      <td>833621</td>\n",
       "      <td>male</td>\n",
       "      <td>Moscow</td>\n",
       "      <td>vk_ads</td>\n",
       "    </tr>\n",
       "    <tr>\n",
       "      <th>2</th>\n",
       "      <td>2020-01-01</td>\n",
       "      <td>app_start</td>\n",
       "      <td>NaN</td>\n",
       "      <td>android</td>\n",
       "      <td>1579237</td>\n",
       "      <td>male</td>\n",
       "      <td>Saint-Petersburg</td>\n",
       "      <td>referal</td>\n",
       "    </tr>\n",
       "    <tr>\n",
       "      <th>3</th>\n",
       "      <td>2020-01-01</td>\n",
       "      <td>app_start</td>\n",
       "      <td>NaN</td>\n",
       "      <td>android</td>\n",
       "      <td>1737182</td>\n",
       "      <td>female</td>\n",
       "      <td>Moscow</td>\n",
       "      <td>facebook_ads</td>\n",
       "    </tr>\n",
       "    <tr>\n",
       "      <th>4</th>\n",
       "      <td>2020-01-01</td>\n",
       "      <td>app_start</td>\n",
       "      <td>NaN</td>\n",
       "      <td>ios</td>\n",
       "      <td>4029024</td>\n",
       "      <td>female</td>\n",
       "      <td>Moscow</td>\n",
       "      <td>facebook_ads</td>\n",
       "    </tr>\n",
       "  </tbody>\n",
       "</table>\n",
       "</div>"
      ],
      "text/plain": [
       "         date      event  purchase_sum  os_name  device_id  gender  \\\n",
       "0  2020-01-01  app_start           NaN  android     669460  female   \n",
       "1  2020-01-01  app_start           NaN      ios     833621    male   \n",
       "2  2020-01-01  app_start           NaN  android    1579237    male   \n",
       "3  2020-01-01  app_start           NaN  android    1737182  female   \n",
       "4  2020-01-01  app_start           NaN      ios    4029024  female   \n",
       "\n",
       "               city    utm_source  \n",
       "0            Moscow             -  \n",
       "1            Moscow        vk_ads  \n",
       "2  Saint-Petersburg       referal  \n",
       "3            Moscow  facebook_ads  \n",
       "4            Moscow  facebook_ads  "
      ]
     },
     "execution_count": 3,
     "metadata": {},
     "output_type": "execute_result"
    }
   ],
   "source": [
    "df.head()"
   ]
  },
  {
   "cell_type": "markdown",
   "metadata": {},
   "source": [
    "## Шаг 2. Сделаем первичный осмотр данных и предобработку"
   ]
  },
  {
   "cell_type": "code",
   "execution_count": 4,
   "metadata": {},
   "outputs": [],
   "source": [
    "# Функция первичного обзора данных\n",
    "def review(data):\n",
    "    display(data.head(5))\n",
    "    print()\n",
    "    print(data.info())\n",
    "    print()\n",
    "    print('Пропуски:', data.isna().sum())\n",
    "    print()\n",
    "    print('Явные дубликаты:')\n",
    "    if data.duplicated().sum() > 0:\n",
    "        print(data.duplicated().sum())\n",
    "    else:\n",
    "        print('Не найдено')\n",
    "    print()\n",
    "    print('Размер датафрейма:', data.shape)"
   ]
  },
  {
   "cell_type": "code",
   "execution_count": 5,
   "metadata": {
    "scrolled": false
   },
   "outputs": [
    {
     "data": {
      "text/html": [
       "<div>\n",
       "<style scoped>\n",
       "    .dataframe tbody tr th:only-of-type {\n",
       "        vertical-align: middle;\n",
       "    }\n",
       "\n",
       "    .dataframe tbody tr th {\n",
       "        vertical-align: top;\n",
       "    }\n",
       "\n",
       "    .dataframe thead th {\n",
       "        text-align: right;\n",
       "    }\n",
       "</style>\n",
       "<table border=\"1\" class=\"dataframe\">\n",
       "  <thead>\n",
       "    <tr style=\"text-align: right;\">\n",
       "      <th></th>\n",
       "      <th>date</th>\n",
       "      <th>event</th>\n",
       "      <th>purchase_sum</th>\n",
       "      <th>os_name</th>\n",
       "      <th>device_id</th>\n",
       "      <th>gender</th>\n",
       "      <th>city</th>\n",
       "      <th>utm_source</th>\n",
       "    </tr>\n",
       "  </thead>\n",
       "  <tbody>\n",
       "    <tr>\n",
       "      <th>0</th>\n",
       "      <td>2020-01-01</td>\n",
       "      <td>app_start</td>\n",
       "      <td>NaN</td>\n",
       "      <td>android</td>\n",
       "      <td>669460</td>\n",
       "      <td>female</td>\n",
       "      <td>Moscow</td>\n",
       "      <td>-</td>\n",
       "    </tr>\n",
       "    <tr>\n",
       "      <th>1</th>\n",
       "      <td>2020-01-01</td>\n",
       "      <td>app_start</td>\n",
       "      <td>NaN</td>\n",
       "      <td>ios</td>\n",
       "      <td>833621</td>\n",
       "      <td>male</td>\n",
       "      <td>Moscow</td>\n",
       "      <td>vk_ads</td>\n",
       "    </tr>\n",
       "    <tr>\n",
       "      <th>2</th>\n",
       "      <td>2020-01-01</td>\n",
       "      <td>app_start</td>\n",
       "      <td>NaN</td>\n",
       "      <td>android</td>\n",
       "      <td>1579237</td>\n",
       "      <td>male</td>\n",
       "      <td>Saint-Petersburg</td>\n",
       "      <td>referal</td>\n",
       "    </tr>\n",
       "    <tr>\n",
       "      <th>3</th>\n",
       "      <td>2020-01-01</td>\n",
       "      <td>app_start</td>\n",
       "      <td>NaN</td>\n",
       "      <td>android</td>\n",
       "      <td>1737182</td>\n",
       "      <td>female</td>\n",
       "      <td>Moscow</td>\n",
       "      <td>facebook_ads</td>\n",
       "    </tr>\n",
       "    <tr>\n",
       "      <th>4</th>\n",
       "      <td>2020-01-01</td>\n",
       "      <td>app_start</td>\n",
       "      <td>NaN</td>\n",
       "      <td>ios</td>\n",
       "      <td>4029024</td>\n",
       "      <td>female</td>\n",
       "      <td>Moscow</td>\n",
       "      <td>facebook_ads</td>\n",
       "    </tr>\n",
       "  </tbody>\n",
       "</table>\n",
       "</div>"
      ],
      "text/plain": [
       "         date      event  purchase_sum  os_name  device_id  gender  \\\n",
       "0  2020-01-01  app_start           NaN  android     669460  female   \n",
       "1  2020-01-01  app_start           NaN      ios     833621    male   \n",
       "2  2020-01-01  app_start           NaN  android    1579237    male   \n",
       "3  2020-01-01  app_start           NaN  android    1737182  female   \n",
       "4  2020-01-01  app_start           NaN      ios    4029024  female   \n",
       "\n",
       "               city    utm_source  \n",
       "0            Moscow             -  \n",
       "1            Moscow        vk_ads  \n",
       "2  Saint-Petersburg       referal  \n",
       "3            Moscow  facebook_ads  \n",
       "4            Moscow  facebook_ads  "
      ]
     },
     "metadata": {},
     "output_type": "display_data"
    },
    {
     "name": "stdout",
     "output_type": "stream",
     "text": [
      "\n",
      "<class 'pandas.core.frame.DataFrame'>\n",
      "RangeIndex: 2747968 entries, 0 to 2747967\n",
      "Data columns (total 8 columns):\n",
      " #   Column        Dtype  \n",
      "---  ------        -----  \n",
      " 0   date          object \n",
      " 1   event         object \n",
      " 2   purchase_sum  float64\n",
      " 3   os_name       object \n",
      " 4   device_id     int64  \n",
      " 5   gender        object \n",
      " 6   city          object \n",
      " 7   utm_source    object \n",
      "dtypes: float64(1), int64(1), object(6)\n",
      "memory usage: 167.7+ MB\n",
      "None\n",
      "\n",
      "Пропуски: date                  0\n",
      "event                 0\n",
      "purchase_sum    2606585\n",
      "os_name               0\n",
      "device_id             0\n",
      "gender                0\n",
      "city                  0\n",
      "utm_source            0\n",
      "dtype: int64\n",
      "\n",
      "Явные дубликаты:\n",
      "Не найдено\n",
      "\n",
      "Размер датафрейма: (2747968, 8)\n"
     ]
    }
   ],
   "source": [
    "review(df)"
   ]
  },
  {
   "cell_type": "markdown",
   "metadata": {},
   "source": [
    "\n"
   ]
  },
  {
   "cell_type": "markdown",
   "metadata": {},
   "source": [
    "## Вывод\n",
    "1) Пропуски в purchase_sum логичны, так как эти поля должны быть только тогда, когда event равен \"purchased\" \n",
    "\n",
    "2) Преобразуем в нужный тип данных дату"
   ]
  },
  {
   "cell_type": "code",
   "execution_count": 25,
   "metadata": {},
   "outputs": [],
   "source": [
    "df['date'] = pd.to_datetime(df['date'])"
   ]
  },
  {
   "cell_type": "code",
   "execution_count": null,
   "metadata": {},
   "outputs": [],
   "source": []
  },
  {
   "cell_type": "markdown",
   "metadata": {},
   "source": [
    "# Выполнение заданий"
   ]
  },
  {
   "cell_type": "markdown",
   "metadata": {},
   "source": [
    "## Задание 1.\n",
    "Посчитать MAU февраля 2020 года"
   ]
  },
  {
   "cell_type": "code",
   "execution_count": 7,
   "metadata": {
    "scrolled": true
   },
   "outputs": [
    {
     "name": "stdout",
     "output_type": "stream",
     "text": [
      "MAU февраля: 75032\n"
     ]
    }
   ],
   "source": [
    "# Фильтруем данные за февраль\n",
    "february_data = df[(df['date'] >= '2020-02-01') & (df['date'] <= '2020-02-29')]\n",
    "\n",
    "# Подсчитываем уникальных пользователей\n",
    "mau_february = february_data['device_id'].nunique()\n",
    "print(f\"MAU февраля: {mau_february}\")\n"
   ]
  },
  {
   "cell_type": "code",
   "execution_count": null,
   "metadata": {},
   "outputs": [],
   "source": []
  },
  {
   "cell_type": "code",
   "execution_count": null,
   "metadata": {},
   "outputs": [],
   "source": []
  },
  {
   "cell_type": "markdown",
   "metadata": {},
   "source": [
    "## Задание 2.\n",
    "Узнать количество установок в январе 2020 года"
   ]
  },
  {
   "cell_type": "code",
   "execution_count": 8,
   "metadata": {
    "scrolled": true
   },
   "outputs": [
    {
     "name": "stdout",
     "output_type": "stream",
     "text": [
      "Количество установок в январе: 80297\n"
     ]
    }
   ],
   "source": [
    "# Фильтруем данные за январь\n",
    "january_installations = df[(df['date'] >= '2020-01-01') & (df['date'] <= '2020-01-31') & (df['event'] == 'app_install')]\n",
    "\n",
    "# Подсчитываем уникальные установки\n",
    "installations_january = january_installations['device_id'].nunique()\n",
    "print(f\"Количество установок в январе: {installations_january}\")\n"
   ]
  },
  {
   "cell_type": "code",
   "execution_count": null,
   "metadata": {},
   "outputs": [],
   "source": []
  },
  {
   "cell_type": "code",
   "execution_count": null,
   "metadata": {},
   "outputs": [],
   "source": []
  },
  {
   "cell_type": "markdown",
   "metadata": {},
   "source": [
    "## Задание 3. \n",
    "Присвойте пользователям когорты по дню установки приложения и посчитайте для них  конверсию из установки в покупку в течение 7 дней. Для какой когорты конверсия была наибольшей?"
   ]
  },
  {
   "cell_type": "markdown",
   "metadata": {},
   "source": [
    "### Шаг 1. Фильтрация событий установки и покупки"
   ]
  },
  {
   "cell_type": "code",
   "execution_count": 9,
   "metadata": {},
   "outputs": [],
   "source": [
    "# Фильтруем только события установки и покупки\n",
    "installs = df[df['event'] == 'app_install'].copy()\n",
    "purchases = df[df['event'] == 'purchase'].copy()"
   ]
  },
  {
   "cell_type": "code",
   "execution_count": 10,
   "metadata": {},
   "outputs": [],
   "source": [
    "# Убираем дубли и оставляем только уникальные даты\n",
    "installs = installs[['device_id', 'date']].drop_duplicates()\n",
    "purchases = purchases[['device_id', 'date', 'purchase_sum']].drop_duplicates()"
   ]
  },
  {
   "cell_type": "markdown",
   "metadata": {},
   "source": [
    "### Шаг 2.  Определение первой установки и первой покупки для каждого пользователя"
   ]
  },
  {
   "cell_type": "code",
   "execution_count": 11,
   "metadata": {},
   "outputs": [],
   "source": [
    "# Определяем дату первой установки для каждого пользователя\n",
    "first_installs = installs.groupby('device_id')['date'].min().reset_index()\n",
    "first_installs.rename(columns={'date': 'install_date'}, inplace=True)\n",
    "\n",
    "# Определяем дату первой покупки для каждого пользователя\n",
    "first_purchases = purchases.groupby('device_id')['date'].min().reset_index()\n",
    "first_purchases.rename(columns={'date': 'purchase_date'}, inplace=True)\n"
   ]
  },
  {
   "cell_type": "markdown",
   "metadata": {},
   "source": [
    "### Шаг 3. Объединение данных об установках и покупках"
   ]
  },
  {
   "cell_type": "code",
   "execution_count": 12,
   "metadata": {},
   "outputs": [],
   "source": [
    "# Объединяем данные об установках и покупках по device_id\n",
    "user_data = pd.merge(first_installs, first_purchases, on='device_id', how='left')\n",
    "\n",
    "# Преобразуем столбцы с датами в формат datetime\n",
    "user_data['install_date'] = pd.to_datetime(user_data['install_date'])\n",
    "user_data['purchase_date'] = pd.to_datetime(user_data['purchase_date'])\n"
   ]
  },
  {
   "cell_type": "markdown",
   "metadata": {},
   "source": [
    "### Шаг 4. Вычисление времени от установки до покупки и фильтрация по 7 дням"
   ]
  },
  {
   "cell_type": "code",
   "execution_count": 13,
   "metadata": {},
   "outputs": [],
   "source": [
    "# Вычисляем количество дней между установкой и первой покупкой\n",
    "user_data['days_since_install'] = (user_data['purchase_date'] - user_data['install_date']).dt.days\n",
    "\n",
    "# Фильтруем покупки, произошедшие в течение 7 дней после установки\n",
    "user_data['converted'] = user_data['days_since_install'].apply(lambda x: x <= 7 if pd.notna(x) else False)\n"
   ]
  },
  {
   "cell_type": "markdown",
   "metadata": {},
   "source": [
    "### Шаг 5. Присвоение когорты по дате первой установки"
   ]
  },
  {
   "cell_type": "code",
   "execution_count": 14,
   "metadata": {},
   "outputs": [],
   "source": [
    "# Присваиваем пользователям когортные группы по дате первой установки\n",
    "user_data['cohort_date'] = user_data['install_date'].dt.date\n"
   ]
  },
  {
   "cell_type": "markdown",
   "metadata": {},
   "source": [
    "### Шаг 6. Подсчет конверсии по когортам"
   ]
  },
  {
   "cell_type": "code",
   "execution_count": 15,
   "metadata": {},
   "outputs": [],
   "source": [
    "# Группируем данные по дате установки (когорта) и рассчитываем конверсии\n",
    "cohort_conversion = user_data.groupby('cohort_date').agg(\n",
    "    installs=('device_id', 'count'),          # Количество установок\n",
    "    conversions=('converted', 'sum')          # Количество конверсий\n",
    ").reset_index()\n",
    "\n",
    "# Рассчитываем конверсию (в процентах)\n",
    "cohort_conversion['conversion_rate'] = (cohort_conversion['conversions'] / cohort_conversion['installs']) * 100\n",
    "\n",
    "# Округляем конверсию до 1 знака после запятой\n",
    "cohort_conversion['conversion_rate'] = cohort_conversion['conversion_rate'].round(1)\n"
   ]
  },
  {
   "cell_type": "code",
   "execution_count": 16,
   "metadata": {},
   "outputs": [
    {
     "data": {
      "text/html": [
       "<div>\n",
       "<style scoped>\n",
       "    .dataframe tbody tr th:only-of-type {\n",
       "        vertical-align: middle;\n",
       "    }\n",
       "\n",
       "    .dataframe tbody tr th {\n",
       "        vertical-align: top;\n",
       "    }\n",
       "\n",
       "    .dataframe thead th {\n",
       "        text-align: right;\n",
       "    }\n",
       "</style>\n",
       "<table border=\"1\" class=\"dataframe\">\n",
       "  <thead>\n",
       "    <tr style=\"text-align: right;\">\n",
       "      <th></th>\n",
       "      <th>cohort_date</th>\n",
       "      <th>installs</th>\n",
       "      <th>conversions</th>\n",
       "      <th>conversion_rate</th>\n",
       "    </tr>\n",
       "  </thead>\n",
       "  <tbody>\n",
       "    <tr>\n",
       "      <th>0</th>\n",
       "      <td>2020-01-01</td>\n",
       "      <td>3579</td>\n",
       "      <td>1408</td>\n",
       "      <td>39.3</td>\n",
       "    </tr>\n",
       "    <tr>\n",
       "      <th>1</th>\n",
       "      <td>2020-01-02</td>\n",
       "      <td>3144</td>\n",
       "      <td>1186</td>\n",
       "      <td>37.7</td>\n",
       "    </tr>\n",
       "    <tr>\n",
       "      <th>2</th>\n",
       "      <td>2020-01-03</td>\n",
       "      <td>2402</td>\n",
       "      <td>834</td>\n",
       "      <td>34.7</td>\n",
       "    </tr>\n",
       "    <tr>\n",
       "      <th>3</th>\n",
       "      <td>2020-01-04</td>\n",
       "      <td>1831</td>\n",
       "      <td>639</td>\n",
       "      <td>34.9</td>\n",
       "    </tr>\n",
       "    <tr>\n",
       "      <th>4</th>\n",
       "      <td>2020-01-05</td>\n",
       "      <td>1671</td>\n",
       "      <td>587</td>\n",
       "      <td>35.1</td>\n",
       "    </tr>\n",
       "    <tr>\n",
       "      <th>5</th>\n",
       "      <td>2020-01-06</td>\n",
       "      <td>1488</td>\n",
       "      <td>487</td>\n",
       "      <td>32.7</td>\n",
       "    </tr>\n",
       "    <tr>\n",
       "      <th>6</th>\n",
       "      <td>2020-01-07</td>\n",
       "      <td>1298</td>\n",
       "      <td>423</td>\n",
       "      <td>32.6</td>\n",
       "    </tr>\n",
       "    <tr>\n",
       "      <th>7</th>\n",
       "      <td>2020-01-08</td>\n",
       "      <td>1154</td>\n",
       "      <td>386</td>\n",
       "      <td>33.4</td>\n",
       "    </tr>\n",
       "    <tr>\n",
       "      <th>8</th>\n",
       "      <td>2020-01-09</td>\n",
       "      <td>1424</td>\n",
       "      <td>558</td>\n",
       "      <td>39.2</td>\n",
       "    </tr>\n",
       "    <tr>\n",
       "      <th>9</th>\n",
       "      <td>2020-01-10</td>\n",
       "      <td>13106</td>\n",
       "      <td>4161</td>\n",
       "      <td>31.7</td>\n",
       "    </tr>\n",
       "    <tr>\n",
       "      <th>10</th>\n",
       "      <td>2020-01-11</td>\n",
       "      <td>4523</td>\n",
       "      <td>1521</td>\n",
       "      <td>33.6</td>\n",
       "    </tr>\n",
       "    <tr>\n",
       "      <th>11</th>\n",
       "      <td>2020-01-12</td>\n",
       "      <td>2439</td>\n",
       "      <td>815</td>\n",
       "      <td>33.4</td>\n",
       "    </tr>\n",
       "    <tr>\n",
       "      <th>12</th>\n",
       "      <td>2020-01-13</td>\n",
       "      <td>4571</td>\n",
       "      <td>1715</td>\n",
       "      <td>37.5</td>\n",
       "    </tr>\n",
       "    <tr>\n",
       "      <th>13</th>\n",
       "      <td>2020-01-14</td>\n",
       "      <td>5173</td>\n",
       "      <td>1973</td>\n",
       "      <td>38.1</td>\n",
       "    </tr>\n",
       "    <tr>\n",
       "      <th>14</th>\n",
       "      <td>2020-01-15</td>\n",
       "      <td>4310</td>\n",
       "      <td>1650</td>\n",
       "      <td>38.3</td>\n",
       "    </tr>\n",
       "  </tbody>\n",
       "</table>\n",
       "</div>"
      ],
      "text/plain": [
       "   cohort_date  installs  conversions  conversion_rate\n",
       "0   2020-01-01      3579         1408             39.3\n",
       "1   2020-01-02      3144         1186             37.7\n",
       "2   2020-01-03      2402          834             34.7\n",
       "3   2020-01-04      1831          639             34.9\n",
       "4   2020-01-05      1671          587             35.1\n",
       "5   2020-01-06      1488          487             32.7\n",
       "6   2020-01-07      1298          423             32.6\n",
       "7   2020-01-08      1154          386             33.4\n",
       "8   2020-01-09      1424          558             39.2\n",
       "9   2020-01-10     13106         4161             31.7\n",
       "10  2020-01-11      4523         1521             33.6\n",
       "11  2020-01-12      2439          815             33.4\n",
       "12  2020-01-13      4571         1715             37.5\n",
       "13  2020-01-14      5173         1973             38.1\n",
       "14  2020-01-15      4310         1650             38.3"
      ]
     },
     "execution_count": 16,
     "metadata": {},
     "output_type": "execute_result"
    }
   ],
   "source": [
    "cohort_conversion.head(15)"
   ]
  },
  {
   "cell_type": "markdown",
   "metadata": {},
   "source": [
    "### Ответ: 01.01.2020, конверсия 39.3"
   ]
  },
  {
   "cell_type": "code",
   "execution_count": null,
   "metadata": {},
   "outputs": [],
   "source": []
  },
  {
   "cell_type": "code",
   "execution_count": null,
   "metadata": {},
   "outputs": [],
   "source": []
  },
  {
   "cell_type": "markdown",
   "metadata": {},
   "source": [
    "## Задание 4\n",
    "С какого платного маркетингового канала пришло больше всего новых пользователей? "
   ]
  },
  {
   "cell_type": "code",
   "execution_count": 17,
   "metadata": {},
   "outputs": [],
   "source": [
    "# Фильтруем только события установки приложения\n",
    "installs = df[df['event'] == 'app_install'].copy()\n",
    "\n",
    "# Убираем дубли, чтобы считать каждого пользователя только один раз\n",
    "installs = installs[['device_id', 'utm_source']].drop_duplicates()\n",
    "\n",
    "# Фильтруем платные маркетинговые каналы\n",
    "paid_channels = installs[installs['utm_source'].isin(['yandex-direct', 'google_ads', 'vk_ads', 'instagram_ads', 'facebook_ads', 'referal'])]\n"
   ]
  },
  {
   "cell_type": "code",
   "execution_count": 18,
   "metadata": {},
   "outputs": [
    {
     "data": {
      "text/html": [
       "<div>\n",
       "<style scoped>\n",
       "    .dataframe tbody tr th:only-of-type {\n",
       "        vertical-align: middle;\n",
       "    }\n",
       "\n",
       "    .dataframe tbody tr th {\n",
       "        vertical-align: top;\n",
       "    }\n",
       "\n",
       "    .dataframe thead th {\n",
       "        text-align: right;\n",
       "    }\n",
       "</style>\n",
       "<table border=\"1\" class=\"dataframe\">\n",
       "  <thead>\n",
       "    <tr style=\"text-align: right;\">\n",
       "      <th></th>\n",
       "      <th>index</th>\n",
       "      <th>utm_source</th>\n",
       "    </tr>\n",
       "  </thead>\n",
       "  <tbody>\n",
       "    <tr>\n",
       "      <th>0</th>\n",
       "      <td>yandex-direct</td>\n",
       "      <td>29368</td>\n",
       "    </tr>\n",
       "    <tr>\n",
       "      <th>1</th>\n",
       "      <td>google_ads</td>\n",
       "      <td>26286</td>\n",
       "    </tr>\n",
       "    <tr>\n",
       "      <th>2</th>\n",
       "      <td>vk_ads</td>\n",
       "      <td>23189</td>\n",
       "    </tr>\n",
       "    <tr>\n",
       "      <th>3</th>\n",
       "      <td>instagram_ads</td>\n",
       "      <td>20096</td>\n",
       "    </tr>\n",
       "    <tr>\n",
       "      <th>4</th>\n",
       "      <td>facebook_ads</td>\n",
       "      <td>13916</td>\n",
       "    </tr>\n",
       "    <tr>\n",
       "      <th>5</th>\n",
       "      <td>referal</td>\n",
       "      <td>9282</td>\n",
       "    </tr>\n",
       "  </tbody>\n",
       "</table>\n",
       "</div>"
      ],
      "text/plain": [
       "           index  utm_source\n",
       "0  yandex-direct       29368\n",
       "1     google_ads       26286\n",
       "2         vk_ads       23189\n",
       "3  instagram_ads       20096\n",
       "4   facebook_ads       13916\n",
       "5        referal        9282"
      ]
     },
     "execution_count": 18,
     "metadata": {},
     "output_type": "execute_result"
    }
   ],
   "source": [
    "paid_channels['utm_source'].value_counts().reset_index()"
   ]
  },
  {
   "cell_type": "markdown",
   "metadata": {},
   "source": [
    "### Ответ: Яндекс-директ"
   ]
  },
  {
   "cell_type": "code",
   "execution_count": null,
   "metadata": {},
   "outputs": [],
   "source": []
  },
  {
   "cell_type": "code",
   "execution_count": null,
   "metadata": {},
   "outputs": [],
   "source": []
  },
  {
   "cell_type": "markdown",
   "metadata": {},
   "source": [
    "## Задание 5\n",
    "\n",
    "Проанализировать на каком этапе воронки отваливается бОльшая часть клиентов. Посмотреть отдельно сценарии для зарегистрированных и для незарегистрированных пользователей. На каком шаге отваливается больше всего зарегистрированных пользователей?"
   ]
  },
  {
   "cell_type": "code",
   "execution_count": 34,
   "metadata": {},
   "outputs": [],
   "source": [
    "registration_data = df[df['event'] == 'register'].groupby('device_id')['date'].min().reset_index()"
   ]
  },
  {
   "cell_type": "code",
   "execution_count": 36,
   "metadata": {},
   "outputs": [],
   "source": [
    "registration_data.rename(columns={'date':'registration_date'}, inplace = True)\n",
    "df = df.merge(registration_data, on='device_id', how='left')"
   ]
  },
  {
   "cell_type": "code",
   "execution_count": 38,
   "metadata": {},
   "outputs": [],
   "source": [
    "# Отмечаем зарегистрирован ли пользователь на момент события\n",
    "df['is_registered'] = df.apply(lambda x: x['date'] >= x['registration_date'] if pd.notnull(x['registration_date']) else False, axis=1)"
   ]
  },
  {
   "cell_type": "code",
   "execution_count": 39,
   "metadata": {},
   "outputs": [],
   "source": [
    "# Последовательность шагов в воронке\n",
    "steps = ['app_install', 'app_start', 'register', 'search', 'open_item', 'choose_item', 'tap_basket', 'purchase']\n",
    "\n",
    "# Функция для расчета количества пользователей на каждом шаге\n",
    "def funnel_step_counts(data, steps, is_registered):\n",
    "    step_counts = {}\n",
    "    for step in steps:\n",
    "        if step == 'register':\n",
    "            step_counts[step] = data[(data['event'] == step) & (data['is_registered'] == is_registered)]['device_id'].nunique()\n",
    "        else:\n",
    "            step_counts[step] = data[(data['event'] == step) & (data['is_registered'] | (step != 'purchase'))]['device_id'].nunique()\n",
    "    return step_counts\n"
   ]
  },
  {
   "cell_type": "code",
   "execution_count": 40,
   "metadata": {},
   "outputs": [],
   "source": [
    "# Подсчет для зарегистрированных и незарегистрированных пользователей\n",
    "registered_counts = funnel_step_counts(df, steps, True)\n",
    "unregistered_counts = funnel_step_counts(df, steps, False)"
   ]
  },
  {
   "cell_type": "code",
   "execution_count": 41,
   "metadata": {},
   "outputs": [],
   "source": [
    "# Функция для расчета конверсии\n",
    "def calculate_conversion(step_counts):\n",
    "    conversions = {}\n",
    "    prev_count = None\n",
    "    for step, count in step_counts.items():\n",
    "        if prev_count is not None:\n",
    "            conversions[step] = count / prev_count if prev_count > 0 else 0\n",
    "        prev_count = count\n",
    "    return conversions"
   ]
  },
  {
   "cell_type": "code",
   "execution_count": 42,
   "metadata": {},
   "outputs": [],
   "source": [
    "# Вычисление конверсии для зарегистрированных и незарегистрированных пользователей\n",
    "registered_conversions = calculate_conversion(registered_counts)\n",
    "unregistered_conversions = calculate_conversion(unregistered_counts)\n"
   ]
  },
  {
   "cell_type": "code",
   "execution_count": 43,
   "metadata": {},
   "outputs": [],
   "source": [
    "# Находим шаг с наименьшей конверсией для зарегистрированных пользователей\n",
    "lowest_conversion_step_registered = min(registered_conversions, key=registered_conversions.get)\n",
    "\n",
    "# Находим шаг с наименьшей конверсией для незарегистрированных пользователей\n",
    "lowest_conversion_step_unregistered = min(unregistered_conversions, key=unregistered_conversions.get)"
   ]
  },
  {
   "cell_type": "code",
   "execution_count": 44,
   "metadata": {},
   "outputs": [
    {
     "name": "stdout",
     "output_type": "stream",
     "text": [
      "Шаг с наименьшей конверсией для зарегистрированных пользователей: open_item\n",
      "Шаг с наименьшей конверсией для незарегистрированных пользователей: register\n"
     ]
    }
   ],
   "source": [
    "# Результаты\n",
    "print(f'Шаг с наименьшей конверсией для зарегистрированных пользователей: {lowest_conversion_step_registered}')\n",
    "print(f'Шаг с наименьшей конверсией для незарегистрированных пользователей: {lowest_conversion_step_unregistered}')\n"
   ]
  },
  {
   "cell_type": "markdown",
   "metadata": {},
   "source": [
    "### Ответ: шаг с наименшье конверсией для зарегистрированных пользователей - это вход в корзину"
   ]
  },
  {
   "cell_type": "code",
   "execution_count": null,
   "metadata": {},
   "outputs": [],
   "source": []
  },
  {
   "cell_type": "code",
   "execution_count": null,
   "metadata": {},
   "outputs": [],
   "source": []
  },
  {
   "cell_type": "markdown",
   "metadata": {},
   "source": [
    "## Задание 6\n",
    "\n",
    "Пользователи, пришедшие с каких каналов, показали самую низкую конверсию в первую покупку?\n"
   ]
  },
  {
   "cell_type": "code",
   "execution_count": 45,
   "metadata": {},
   "outputs": [],
   "source": [
    "# Фильтрация событий первого открытия приложения\n",
    "first_open = df[df['event'] == 'app_start'].groupby('device_id')['date'].min().reset_index()\n",
    "first_open = first_open.merge(df, on=['device_id', 'date'])\n",
    "first_open_users = first_open.groupby('utm_source')['device_id'].nunique().reset_index()\n",
    "first_open_users.columns = ['utm_source', 'first_open_count']"
   ]
  },
  {
   "cell_type": "code",
   "execution_count": 46,
   "metadata": {},
   "outputs": [],
   "source": [
    "# Фильтрация событий первой покупки\n",
    "first_purchase = df[df['event'] == 'purchase'].groupby('device_id')['date'].min().reset_index()\n",
    "first_purchase = first_purchase.merge(df, on=['device_id', 'date'])\n",
    "first_purchase_users = first_purchase.groupby('utm_source')['device_id'].nunique().reset_index()\n",
    "first_purchase_users.columns = ['utm_source', 'first_purchase_count']"
   ]
  },
  {
   "cell_type": "code",
   "execution_count": 48,
   "metadata": {},
   "outputs": [],
   "source": [
    "# Шаг 3: Расчет коэффициента конверсии\n",
    "conversion_data = first_open_users.merge(first_purchase_users, on='utm_source', how='left')\n",
    "conversion_data['first_purchase_count'] = conversion_data['first_purchase_count'].fillna(0)\n",
    "conversion_data['CR'] = conversion_data['first_purchase_count'] / conversion_data['first_open_count']"
   ]
  },
  {
   "cell_type": "code",
   "execution_count": 51,
   "metadata": {},
   "outputs": [
    {
     "data": {
      "text/html": [
       "<div>\n",
       "<style scoped>\n",
       "    .dataframe tbody tr th:only-of-type {\n",
       "        vertical-align: middle;\n",
       "    }\n",
       "\n",
       "    .dataframe tbody tr th {\n",
       "        vertical-align: top;\n",
       "    }\n",
       "\n",
       "    .dataframe thead th {\n",
       "        text-align: right;\n",
       "    }\n",
       "</style>\n",
       "<table border=\"1\" class=\"dataframe\">\n",
       "  <thead>\n",
       "    <tr style=\"text-align: right;\">\n",
       "      <th></th>\n",
       "      <th>utm_source</th>\n",
       "      <th>first_open_count</th>\n",
       "      <th>first_purchase_count</th>\n",
       "      <th>CR</th>\n",
       "    </tr>\n",
       "  </thead>\n",
       "  <tbody>\n",
       "    <tr>\n",
       "      <th>6</th>\n",
       "      <td>yandex-direct</td>\n",
       "      <td>34441</td>\n",
       "      <td>10936</td>\n",
       "      <td>0.317529</td>\n",
       "    </tr>\n",
       "    <tr>\n",
       "      <th>2</th>\n",
       "      <td>google_ads</td>\n",
       "      <td>31437</td>\n",
       "      <td>10167</td>\n",
       "      <td>0.323409</td>\n",
       "    </tr>\n",
       "    <tr>\n",
       "      <th>0</th>\n",
       "      <td>-</td>\n",
       "      <td>41456</td>\n",
       "      <td>14786</td>\n",
       "      <td>0.356667</td>\n",
       "    </tr>\n",
       "    <tr>\n",
       "      <th>3</th>\n",
       "      <td>instagram_ads</td>\n",
       "      <td>24818</td>\n",
       "      <td>9820</td>\n",
       "      <td>0.395681</td>\n",
       "    </tr>\n",
       "    <tr>\n",
       "      <th>5</th>\n",
       "      <td>vk_ads</td>\n",
       "      <td>27905</td>\n",
       "      <td>11460</td>\n",
       "      <td>0.410679</td>\n",
       "    </tr>\n",
       "    <tr>\n",
       "      <th>1</th>\n",
       "      <td>facebook_ads</td>\n",
       "      <td>18844</td>\n",
       "      <td>7903</td>\n",
       "      <td>0.419391</td>\n",
       "    </tr>\n",
       "    <tr>\n",
       "      <th>4</th>\n",
       "      <td>referal</td>\n",
       "      <td>11983</td>\n",
       "      <td>5803</td>\n",
       "      <td>0.484269</td>\n",
       "    </tr>\n",
       "  </tbody>\n",
       "</table>\n",
       "</div>"
      ],
      "text/plain": [
       "      utm_source  first_open_count  first_purchase_count        CR\n",
       "6  yandex-direct             34441                 10936  0.317529\n",
       "2     google_ads             31437                 10167  0.323409\n",
       "0              -             41456                 14786  0.356667\n",
       "3  instagram_ads             24818                  9820  0.395681\n",
       "5         vk_ads             27905                 11460  0.410679\n",
       "1   facebook_ads             18844                  7903  0.419391\n",
       "4        referal             11983                  5803  0.484269"
      ]
     },
     "execution_count": 51,
     "metadata": {},
     "output_type": "execute_result"
    }
   ],
   "source": [
    "conversion_data.sort_values(by='CR')"
   ]
  },
  {
   "cell_type": "markdown",
   "metadata": {},
   "source": [
    "### Ответ: и снова яндекс:)"
   ]
  },
  {
   "cell_type": "code",
   "execution_count": null,
   "metadata": {},
   "outputs": [],
   "source": []
  },
  {
   "cell_type": "code",
   "execution_count": null,
   "metadata": {},
   "outputs": [],
   "source": []
  },
  {
   "cell_type": "markdown",
   "metadata": {},
   "source": [
    "## Задание 7\n",
    "Пользователи, пришедшие с какого канала, имеют медианный первый чек выше? (учитываются только первые покупки пользователей)"
   ]
  },
  {
   "cell_type": "code",
   "execution_count": 52,
   "metadata": {},
   "outputs": [],
   "source": [
    "# Фильтрация событий purchase\n",
    "purchase_data = df[df['event'] == 'purchase']"
   ]
  },
  {
   "cell_type": "code",
   "execution_count": 53,
   "metadata": {},
   "outputs": [],
   "source": [
    "# Сортируем данные по device_id и date\n",
    "purchase_data = purchase_data.sort_values(by=['device_id', 'date'])"
   ]
  },
  {
   "cell_type": "code",
   "execution_count": 54,
   "metadata": {},
   "outputs": [],
   "source": [
    "# Убираем дубликаты по device_id, оставляя только первую покупку\n",
    "first_purchases = purchase_data.drop_duplicates(subset='device_id', keep='first')"
   ]
  },
  {
   "cell_type": "code",
   "execution_count": 55,
   "metadata": {},
   "outputs": [],
   "source": [
    "# Группировка данных по каналу и расчет медианной стоимости первой покупки\n",
    "median_purchase_by_channel = first_purchases.groupby('utm_source')['purchase_sum'].median()"
   ]
  },
  {
   "cell_type": "code",
   "execution_count": 56,
   "metadata": {},
   "outputs": [],
   "source": [
    "# Сортировка каналов по медианной стоимости первой покупки в порядке убывания\n",
    "sorted_median_purchase_by_channel = median_purchase_by_channel.sort_values(ascending=False)"
   ]
  },
  {
   "cell_type": "code",
   "execution_count": 60,
   "metadata": {},
   "outputs": [
    {
     "data": {
      "text/plain": [
       "utm_source\n",
       "-                398.5\n",
       "referal          395.5\n",
       "instagram_ads    393.5\n",
       "vk_ads           393.0\n",
       "yandex-direct    392.5\n",
       "Name: purchase_sum, dtype: float64"
      ]
     },
     "execution_count": 60,
     "metadata": {},
     "output_type": "execute_result"
    }
   ],
   "source": [
    "sorted_median_purchase_by_channel.head()"
   ]
  },
  {
   "cell_type": "markdown",
   "metadata": {},
   "source": [
    "### Ответ: Реферальная программа"
   ]
  },
  {
   "cell_type": "code",
   "execution_count": null,
   "metadata": {},
   "outputs": [],
   "source": []
  }
 ],
 "metadata": {
  "kernelspec": {
   "display_name": "Python 3",
   "language": "python",
   "name": "python3"
  },
  "language_info": {
   "codemirror_mode": {
    "name": "ipython",
    "version": 3
   },
   "file_extension": ".py",
   "mimetype": "text/x-python",
   "name": "python",
   "nbconvert_exporter": "python",
   "pygments_lexer": "ipython3",
   "version": "3.7.3"
  }
 },
 "nbformat": 4,
 "nbformat_minor": 4
}
